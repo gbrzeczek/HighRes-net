{
 "cells": [
  {
   "cell_type": "code",
   "execution_count": null,
   "metadata": {},
   "outputs": [],
   "source": [
    "%reload_ext autoreload\n",
    "%autoreload 2"
   ]
  },
  {
   "cell_type": "code",
   "execution_count": null,
   "metadata": {},
   "outputs": [],
   "source": [
    "%load_ext line_profiler"
   ]
  },
  {
   "cell_type": "code",
   "execution_count": null,
   "metadata": {},
   "outputs": [],
   "source": [
    "import json\n",
    "import os\n",
    "import sys\n",
    "sys.path.insert(0, os.path.abspath('../src/'))\n",
    "\n",
    "import matplotlib.pyplot as plt\n",
    "%matplotlib inline\n",
    "\n",
    "import torch"
   ]
  },
  {
   "cell_type": "code",
   "execution_count": null,
   "metadata": {},
   "outputs": [],
   "source": [
    "from predict import Model\n",
    "from predict import load_data\n",
    "from utils import imsetshow"
   ]
  },
  {
   "cell_type": "markdown",
   "metadata": {},
   "source": [
    "## 1.0 Configuration"
   ]
  },
  {
   "cell_type": "code",
   "execution_count": null,
   "metadata": {},
   "outputs": [],
   "source": [
    "model_name = 'lpips1_vgg'\n",
    "lpips_mode = 'vgg'\n",
    "\n",
    "config_file_path = \"../config/config.json\"\n",
    "with open(config_file_path, \"r\") as read_file:\n",
    "    config = json.load(read_file)\n",
    "    \n",
    "checkpoint_dir = config[\"paths\"][\"checkpoint_dir\"]\n",
    "run_subfolder = model_name\n",
    "checkpoint_filename = 'HRNet.pth'\n",
    "checkpoint_file = os.path.join('..', checkpoint_dir, run_subfolder, checkpoint_filename)\n",
    "# print(checkpoint_file)\n",
    "assert os.path.isfile(checkpoint_file)"
   ]
  },
  {
   "cell_type": "markdown",
   "metadata": {},
   "source": [
    "## 1.1 Load model"
   ]
  },
  {
   "cell_type": "code",
   "execution_count": null,
   "metadata": {},
   "outputs": [],
   "source": [
    "model = Model(config)\n",
    "model.load_checkpoint(checkpoint_file=checkpoint_file)"
   ]
  },
  {
   "cell_type": "markdown",
   "metadata": {},
   "source": [
    "## 1.2 Load data"
   ]
  },
  {
   "cell_type": "code",
   "execution_count": null,
   "metadata": {},
   "outputs": [],
   "source": [
    "train_dataset, val_dataset, test_dataset, baseline_cpsnrs = load_data(config_file_path, val_proportion=0.10, top_k=-1)"
   ]
  },
  {
   "cell_type": "markdown",
   "metadata": {},
   "source": [
    "## 1.3 Run evaluation"
   ]
  },
  {
   "cell_type": "code",
   "execution_count": null,
   "metadata": {},
   "outputs": [],
   "source": [
    "results = model.evaluate(train_dataset, val_dataset, test_dataset, baseline_cpsnrs)"
   ]
  },
  {
   "cell_type": "markdown",
   "metadata": {},
   "source": [
    "## 1.4 Benchmark % ESA Baseline"
   ]
  },
  {
   "cell_type": "code",
   "execution_count": null,
   "metadata": {},
   "outputs": [],
   "source": [
    "results.describe().T"
   ]
  },
  {
   "cell_type": "code",
   "execution_count": null,
   "metadata": {
    "scrolled": true
   },
   "outputs": [],
   "source": [
    "results.loc[results['part'] == 'train'].describe().loc['mean']"
   ]
  },
  {
   "cell_type": "code",
   "execution_count": null,
   "metadata": {},
   "outputs": [],
   "source": [
    "results.loc[results['part'] == 'val'].describe().loc['mean']"
   ]
  },
  {
   "cell_type": "code",
   "execution_count": null,
   "metadata": {},
   "outputs": [],
   "source": [
    "results.loc[results['part'] == 'test'].describe().loc['mean']"
   ]
  },
  {
   "cell_type": "code",
   "execution_count": null,
   "metadata": {},
   "outputs": [],
   "source": [
    "results.loc[results['part']=='train'].hist(column=['ESA', 'model'],\n",
    "                                           sharex=True, sharey=True, bins=100, layout=(2,1), figsize=(10, 3));\n",
    "results.loc[results['part']=='train'].hist(column=['score'],\n",
    "                                           bins=100, figsize=(10, 1));"
   ]
  },
  {
   "cell_type": "code",
   "execution_count": null,
   "metadata": {},
   "outputs": [],
   "source": [
    "results.loc[results['part']=='val'].hist(column=['ESA', 'model'],\n",
    "                                           sharex=True, sharey=True, bins=20, layout=(2,1), figsize=(10, 3));\n",
    "results.loc[results['part']=='val'].hist(column=['score'],\n",
    "                                           bins=20, figsize=(10, 1));"
   ]
  },
  {
   "cell_type": "code",
   "execution_count": null,
   "metadata": {},
   "outputs": [],
   "source": [
    "results.plot.scatter('mean_clr', 'score', s=100, alpha=.1);"
   ]
  },
  {
   "cell_type": "code",
   "execution_count": null,
   "metadata": {},
   "outputs": [],
   "source": [
    "results.plot.scatter('std_clr', 'score', s=100, alpha=.1);"
   ]
  },
  {
   "cell_type": "markdown",
   "metadata": {},
   "source": [
    "## 1.5 Pretty pics"
   ]
  },
  {
   "cell_type": "code",
   "execution_count": null,
   "metadata": {
    "scrolled": true
   },
   "outputs": [],
   "source": [
    "results[results['part'] == 'val'].sort_values('score')"
   ]
  },
  {
   "cell_type": "code",
   "execution_count": null,
   "metadata": {},
   "outputs": [],
   "source": [
    "output_dir = os.path.join('..', 'images', model_name)\n",
    "os.makedirs(output_dir, exist_ok=True)\n",
    "\n",
    "for i in range(0, 3):\n",
    "    imset = val_dataset[i]\n",
    "    sr, scPSNR = model(imset)\n",
    "\n",
    "    #imsetshow(imset, k=5, figsize=(20,8), resample=False, show_histogram=True, show_map=True)\n",
    "\n",
    "    plt.figure(figsize=(30, 10))\n",
    "    plt.subplot(131);  plt.imshow(imset['lr'][0]);  plt.title('Low-Resolution-0 (300m / pixel)');\n",
    "    plt.subplot(132);  plt.imshow(sr);  plt.title('Super-Resolution (100m / pixel)');\n",
    "    plt.subplot(133);  plt.imshow(imset['hr']);  plt.title('Ground-truth high-resolution (100m / pixel)');\n",
    "\n",
    "    output_file = os.path.join(output_dir, f'val_{i}.png')\n",
    "    plt.savefig(output_file)"
   ]
  },
  {
   "cell_type": "markdown",
   "metadata": {},
   "source": [
    "## 1.6 Calculate LPIPS"
   ]
  },
  {
   "cell_type": "code",
   "execution_count": null,
   "metadata": {},
   "outputs": [],
   "source": [
    "val_srs = []\n",
    "val_hrs = []\n",
    "\n",
    "for i in range(len(val_dataset)):\n",
    "    imset = val_dataset[i]\n",
    "    sr, scPSNR = model(imset)\n",
    "    val_srs.append(sr)\n",
    "    val_hrs.append(imset['hr'])\n",
    "\n",
    "device = torch.device('cuda' if torch.cuda.is_available() else 'cpu')\n",
    "\n",
    "val_hrs_tensor = torch.stack(val_hrs).to(device)\n",
    "val_srs_tensor = torch.tensor(val_srs).to(device)\n",
    "\n",
    "# Normalize\n",
    "val_hrs_normalized = (val_hrs_tensor - 0.5) * 2\n",
    "val_srs_normalized = (val_srs_tensor - 0.5) * 2\n",
    "\n",
    "# Convert to color\n",
    "val_hrs_normalized = val_hrs_normalized.unsqueeze(1).repeat(1, 3, 1, 1)\n",
    "val_srs_normalized = val_srs_normalized.unsqueeze(1).repeat(1, 3, 1, 1)\n",
    "\n",
    "# Compute LPIPS\n",
    "import lpips\n",
    "\n",
    "lpips_fn = lpips.LPIPS(net=lpips_mode).to(device)\n",
    "all_lpips_values = []\n",
    "\n",
    "# Batch size of 10\n",
    "batch_size = 10\n",
    "\n",
    "for i in range(0, len(val_hrs_normalized), batch_size):\n",
    "    lpips_values = lpips_fn(val_hrs_normalized[i:i+batch_size], val_srs_normalized[i:i+batch_size]).cpu().detach().numpy()\n",
    "    # add the values to the list\n",
    "    all_lpips_values.extend(lpips_values)\n",
    "\n",
    "average_lpips = sum(all_lpips_values) / len(all_lpips_values)\n",
    "\n",
    "print(f'Average LPIPS for model {model_name}: {average_lpips}')"
   ]
  },
  {
   "cell_type": "markdown",
   "metadata": {},
   "source": [
    "## 1.7 Generate submission file"
   ]
  },
  {
   "cell_type": "code",
   "execution_count": null,
   "metadata": {},
   "outputs": [],
   "source": [
    "model.generate_submission_file(imset_dataset=test_dataset, out='../submission')"
   ]
  },
  {
   "cell_type": "code",
   "execution_count": null,
   "metadata": {},
   "outputs": [],
   "source": []
  }
 ],
 "metadata": {
  "kernelspec": {
   "display_name": "Python 3",
   "language": "python",
   "name": "python3"
  },
  "language_info": {
   "codemirror_mode": {
    "name": "ipython",
    "version": 3
   },
   "file_extension": ".py",
   "mimetype": "text/x-python",
   "name": "python",
   "nbconvert_exporter": "python",
   "pygments_lexer": "ipython3",
   "version": "3.6.8"
  }
 },
 "nbformat": 4,
 "nbformat_minor": 2
}
